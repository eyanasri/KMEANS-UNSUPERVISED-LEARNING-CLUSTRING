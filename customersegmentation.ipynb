{
 "cells": [
  {
   "cell_type": "code",
   "execution_count": 4,
   "id": "4867409f",
   "metadata": {},
   "outputs": [],
   "source": [
    "import pandas as pd \n",
    "import numpy as np \n",
    "from sklearn import preprocessing\n",
    "from sklearn.preprocessing import OneHotEncoder\n",
    "from sklearn.cluster import KMeans"
   ]
  },
  {
   "cell_type": "code",
   "execution_count": 5,
   "id": "663d8ec7",
   "metadata": {},
   "outputs": [],
   "source": [
    "data = pd.ExcelFile(\"custseg.xlsx\") #importation du fichier excel\n",
    "df = data.parse(\"custseg\")"
   ]
  },
  {
   "cell_type": "code",
   "execution_count": 6,
   "id": "64a4495d",
   "metadata": {
    "scrolled": false
   },
   "outputs": [
    {
     "data": {
      "text/html": [
       "<div>\n",
       "<style scoped>\n",
       "    .dataframe tbody tr th:only-of-type {\n",
       "        vertical-align: middle;\n",
       "    }\n",
       "\n",
       "    .dataframe tbody tr th {\n",
       "        vertical-align: top;\n",
       "    }\n",
       "\n",
       "    .dataframe thead th {\n",
       "        text-align: right;\n",
       "    }\n",
       "</style>\n",
       "<table border=\"1\" class=\"dataframe\">\n",
       "  <thead>\n",
       "    <tr style=\"text-align: right;\">\n",
       "      <th></th>\n",
       "      <th>CustomerID</th>\n",
       "      <th>LastName</th>\n",
       "      <th>FirstName</th>\n",
       "      <th>BirthDate</th>\n",
       "      <th>Gender</th>\n",
       "      <th>ParticipantType</th>\n",
       "      <th>RegionID</th>\n",
       "      <th>MaritalStatus</th>\n",
       "    </tr>\n",
       "  </thead>\n",
       "  <tbody>\n",
       "    <tr>\n",
       "      <th>0</th>\n",
       "      <td>18</td>\n",
       "      <td>Christine</td>\n",
       "      <td>Bowman</td>\n",
       "      <td>1978-03-06</td>\n",
       "      <td>FEMALE</td>\n",
       "      <td>INDIVIDUAL</td>\n",
       "      <td>245</td>\n",
       "      <td>Single</td>\n",
       "    </tr>\n",
       "    <tr>\n",
       "      <th>1</th>\n",
       "      <td>110</td>\n",
       "      <td>Thomas</td>\n",
       "      <td>Burke</td>\n",
       "      <td>1971-09-04</td>\n",
       "      <td>MALE</td>\n",
       "      <td>INDIVIDUAL</td>\n",
       "      <td>388</td>\n",
       "      <td>Married</td>\n",
       "    </tr>\n",
       "    <tr>\n",
       "      <th>2</th>\n",
       "      <td>422</td>\n",
       "      <td>Cynthia</td>\n",
       "      <td>Powell</td>\n",
       "      <td>1970-08-21</td>\n",
       "      <td>FEMALE</td>\n",
       "      <td>INDIVIDUAL</td>\n",
       "      <td>263</td>\n",
       "      <td>Single</td>\n",
       "    </tr>\n",
       "    <tr>\n",
       "      <th>3</th>\n",
       "      <td>457</td>\n",
       "      <td>Gary</td>\n",
       "      <td>Baker</td>\n",
       "      <td>1963-01-01</td>\n",
       "      <td>MALE</td>\n",
       "      <td>INDIVIDUAL</td>\n",
       "      <td>74</td>\n",
       "      <td>Divorced</td>\n",
       "    </tr>\n",
       "    <tr>\n",
       "      <th>4</th>\n",
       "      <td>690</td>\n",
       "      <td>Ruth</td>\n",
       "      <td>Baker</td>\n",
       "      <td>1952-02-13</td>\n",
       "      <td>FEMALE</td>\n",
       "      <td>INDIVIDUAL</td>\n",
       "      <td>146</td>\n",
       "      <td>Married</td>\n",
       "    </tr>\n",
       "    <tr>\n",
       "      <th>...</th>\n",
       "      <td>...</td>\n",
       "      <td>...</td>\n",
       "      <td>...</td>\n",
       "      <td>...</td>\n",
       "      <td>...</td>\n",
       "      <td>...</td>\n",
       "      <td>...</td>\n",
       "      <td>...</td>\n",
       "    </tr>\n",
       "    <tr>\n",
       "      <th>12299</th>\n",
       "      <td>2560362</td>\n",
       "      <td>Judith</td>\n",
       "      <td>Dunn</td>\n",
       "      <td>1987-07-27</td>\n",
       "      <td>FEMALE</td>\n",
       "      <td>INDIVIDUAL</td>\n",
       "      <td>361</td>\n",
       "      <td>Single</td>\n",
       "    </tr>\n",
       "    <tr>\n",
       "      <th>12300</th>\n",
       "      <td>2563276</td>\n",
       "      <td>WAL-MART Ltd</td>\n",
       "      <td>NaN</td>\n",
       "      <td>NaT</td>\n",
       "      <td>NaN</td>\n",
       "      <td>COMPANY</td>\n",
       "      <td>594</td>\n",
       "      <td>NaN</td>\n",
       "    </tr>\n",
       "    <tr>\n",
       "      <th>12301</th>\n",
       "      <td>2574599</td>\n",
       "      <td>Terry</td>\n",
       "      <td>Cox</td>\n",
       "      <td>1969-08-29</td>\n",
       "      <td>MALE</td>\n",
       "      <td>INDIVIDUAL</td>\n",
       "      <td>549</td>\n",
       "      <td>Married</td>\n",
       "    </tr>\n",
       "    <tr>\n",
       "      <th>12302</th>\n",
       "      <td>2579714</td>\n",
       "      <td>Virtus</td>\n",
       "      <td>NaN</td>\n",
       "      <td>NaT</td>\n",
       "      <td>NaN</td>\n",
       "      <td>COMPANY</td>\n",
       "      <td>411</td>\n",
       "      <td>NaN</td>\n",
       "    </tr>\n",
       "    <tr>\n",
       "      <th>12303</th>\n",
       "      <td>2581366</td>\n",
       "      <td>Portal Ltd</td>\n",
       "      <td>NaN</td>\n",
       "      <td>NaT</td>\n",
       "      <td>NaN</td>\n",
       "      <td>COMPANY</td>\n",
       "      <td>93</td>\n",
       "      <td>NaN</td>\n",
       "    </tr>\n",
       "  </tbody>\n",
       "</table>\n",
       "<p>12304 rows × 8 columns</p>\n",
       "</div>"
      ],
      "text/plain": [
       "       CustomerID      LastName FirstName  BirthDate  Gender ParticipantType  \\\n",
       "0              18     Christine    Bowman 1978-03-06  FEMALE      INDIVIDUAL   \n",
       "1             110        Thomas     Burke 1971-09-04    MALE      INDIVIDUAL   \n",
       "2             422       Cynthia    Powell 1970-08-21  FEMALE      INDIVIDUAL   \n",
       "3             457          Gary     Baker 1963-01-01    MALE      INDIVIDUAL   \n",
       "4             690          Ruth     Baker 1952-02-13  FEMALE      INDIVIDUAL   \n",
       "...           ...           ...       ...        ...     ...             ...   \n",
       "12299     2560362        Judith      Dunn 1987-07-27  FEMALE      INDIVIDUAL   \n",
       "12300     2563276  WAL-MART Ltd       NaN        NaT     NaN         COMPANY   \n",
       "12301     2574599         Terry       Cox 1969-08-29    MALE      INDIVIDUAL   \n",
       "12302     2579714       Virtus        NaN        NaT     NaN         COMPANY   \n",
       "12303     2581366    Portal Ltd       NaN        NaT     NaN         COMPANY   \n",
       "\n",
       "       RegionID MaritalStatus  \n",
       "0           245        Single  \n",
       "1           388       Married  \n",
       "2           263        Single  \n",
       "3            74      Divorced  \n",
       "4           146       Married  \n",
       "...         ...           ...  \n",
       "12299       361        Single  \n",
       "12300       594           NaN  \n",
       "12301       549       Married  \n",
       "12302       411           NaN  \n",
       "12303        93           NaN  \n",
       "\n",
       "[12304 rows x 8 columns]"
      ]
     },
     "execution_count": 6,
     "metadata": {},
     "output_type": "execute_result"
    }
   ],
   "source": [
    "df"
   ]
  },
  {
   "cell_type": "code",
   "execution_count": 7,
   "id": "cb1bb202",
   "metadata": {},
   "outputs": [],
   "source": [
    "df.dropna(axis=0, inplace=True) #drop missing values"
   ]
  },
  {
   "cell_type": "code",
   "execution_count": 8,
   "id": "3fd574c1",
   "metadata": {},
   "outputs": [],
   "source": [
    "df_enc = OneHotEncoder().fit_transform(df) #transform categorical columns (encodage)"
   ]
  },
  {
   "cell_type": "code",
   "execution_count": 9,
   "id": "27dc4c59",
   "metadata": {},
   "outputs": [],
   "source": [
    "kmeans = KMeans(n_clusters=4, random_state=0).fit(df_enc) #instanciation w fittina l model"
   ]
  },
  {
   "cell_type": "code",
   "execution_count": 10,
   "id": "8a7e22d1",
   "metadata": {},
   "outputs": [],
   "source": [
    "kmeans_res = kmeans.labels_.tolist() #save results to list"
   ]
  },
  {
   "cell_type": "code",
   "execution_count": 11,
   "id": "e7b7786b",
   "metadata": {},
   "outputs": [],
   "source": [
    "clustered_data = pd.DataFrame(kmeans_res , index=df[\"CustomerID\"], columns=[\"Cluster Number\"]) #transform list to dataframe"
   ]
  },
  {
   "cell_type": "code",
   "execution_count": 12,
   "id": "d038d69c",
   "metadata": {},
   "outputs": [
    {
     "data": {
      "text/html": [
       "<div>\n",
       "<style scoped>\n",
       "    .dataframe tbody tr th:only-of-type {\n",
       "        vertical-align: middle;\n",
       "    }\n",
       "\n",
       "    .dataframe tbody tr th {\n",
       "        vertical-align: top;\n",
       "    }\n",
       "\n",
       "    .dataframe thead th {\n",
       "        text-align: right;\n",
       "    }\n",
       "</style>\n",
       "<table border=\"1\" class=\"dataframe\">\n",
       "  <thead>\n",
       "    <tr style=\"text-align: right;\">\n",
       "      <th></th>\n",
       "      <th>Cluster Number</th>\n",
       "    </tr>\n",
       "    <tr>\n",
       "      <th>CustomerID</th>\n",
       "      <th></th>\n",
       "    </tr>\n",
       "  </thead>\n",
       "  <tbody>\n",
       "    <tr>\n",
       "      <th>18</th>\n",
       "      <td>3</td>\n",
       "    </tr>\n",
       "    <tr>\n",
       "      <th>110</th>\n",
       "      <td>1</td>\n",
       "    </tr>\n",
       "    <tr>\n",
       "      <th>422</th>\n",
       "      <td>3</td>\n",
       "    </tr>\n",
       "    <tr>\n",
       "      <th>457</th>\n",
       "      <td>0</td>\n",
       "    </tr>\n",
       "    <tr>\n",
       "      <th>690</th>\n",
       "      <td>2</td>\n",
       "    </tr>\n",
       "    <tr>\n",
       "      <th>1002</th>\n",
       "      <td>2</td>\n",
       "    </tr>\n",
       "    <tr>\n",
       "      <th>1240</th>\n",
       "      <td>1</td>\n",
       "    </tr>\n",
       "    <tr>\n",
       "      <th>1326</th>\n",
       "      <td>3</td>\n",
       "    </tr>\n",
       "    <tr>\n",
       "      <th>1475</th>\n",
       "      <td>1</td>\n",
       "    </tr>\n",
       "    <tr>\n",
       "      <th>1517</th>\n",
       "      <td>1</td>\n",
       "    </tr>\n",
       "  </tbody>\n",
       "</table>\n",
       "</div>"
      ],
      "text/plain": [
       "            Cluster Number\n",
       "CustomerID                \n",
       "18                       3\n",
       "110                      1\n",
       "422                      3\n",
       "457                      0\n",
       "690                      2\n",
       "1002                     2\n",
       "1240                     1\n",
       "1326                     3\n",
       "1475                     1\n",
       "1517                     1"
      ]
     },
     "execution_count": 12,
     "metadata": {},
     "output_type": "execute_result"
    }
   ],
   "source": [
    "clustered_data.head(10) #view of the dataframe"
   ]
  },
  {
   "cell_type": "code",
   "execution_count": 13,
   "id": "38cc8f19",
   "metadata": {},
   "outputs": [
    {
     "data": {
      "text/html": [
       "<div>\n",
       "<style scoped>\n",
       "    .dataframe tbody tr th:only-of-type {\n",
       "        vertical-align: middle;\n",
       "    }\n",
       "\n",
       "    .dataframe tbody tr th {\n",
       "        vertical-align: top;\n",
       "    }\n",
       "\n",
       "    .dataframe thead th {\n",
       "        text-align: right;\n",
       "    }\n",
       "</style>\n",
       "<table border=\"1\" class=\"dataframe\">\n",
       "  <thead>\n",
       "    <tr style=\"text-align: right;\">\n",
       "      <th></th>\n",
       "      <th>CustomerID</th>\n",
       "      <th>LastName</th>\n",
       "      <th>FirstName</th>\n",
       "      <th>BirthDate</th>\n",
       "      <th>Gender</th>\n",
       "      <th>ParticipantType</th>\n",
       "      <th>RegionID</th>\n",
       "      <th>MaritalStatus</th>\n",
       "    </tr>\n",
       "  </thead>\n",
       "  <tbody>\n",
       "    <tr>\n",
       "      <th>0</th>\n",
       "      <td>18</td>\n",
       "      <td>Christine</td>\n",
       "      <td>Bowman</td>\n",
       "      <td>1978-03-06</td>\n",
       "      <td>FEMALE</td>\n",
       "      <td>INDIVIDUAL</td>\n",
       "      <td>245</td>\n",
       "      <td>Single</td>\n",
       "    </tr>\n",
       "    <tr>\n",
       "      <th>1</th>\n",
       "      <td>110</td>\n",
       "      <td>Thomas</td>\n",
       "      <td>Burke</td>\n",
       "      <td>1971-09-04</td>\n",
       "      <td>MALE</td>\n",
       "      <td>INDIVIDUAL</td>\n",
       "      <td>388</td>\n",
       "      <td>Married</td>\n",
       "    </tr>\n",
       "    <tr>\n",
       "      <th>2</th>\n",
       "      <td>422</td>\n",
       "      <td>Cynthia</td>\n",
       "      <td>Powell</td>\n",
       "      <td>1970-08-21</td>\n",
       "      <td>FEMALE</td>\n",
       "      <td>INDIVIDUAL</td>\n",
       "      <td>263</td>\n",
       "      <td>Single</td>\n",
       "    </tr>\n",
       "    <tr>\n",
       "      <th>3</th>\n",
       "      <td>457</td>\n",
       "      <td>Gary</td>\n",
       "      <td>Baker</td>\n",
       "      <td>1963-01-01</td>\n",
       "      <td>MALE</td>\n",
       "      <td>INDIVIDUAL</td>\n",
       "      <td>74</td>\n",
       "      <td>Divorced</td>\n",
       "    </tr>\n",
       "    <tr>\n",
       "      <th>4</th>\n",
       "      <td>690</td>\n",
       "      <td>Ruth</td>\n",
       "      <td>Baker</td>\n",
       "      <td>1952-02-13</td>\n",
       "      <td>FEMALE</td>\n",
       "      <td>INDIVIDUAL</td>\n",
       "      <td>146</td>\n",
       "      <td>Married</td>\n",
       "    </tr>\n",
       "  </tbody>\n",
       "</table>\n",
       "</div>"
      ],
      "text/plain": [
       "   CustomerID   LastName FirstName  BirthDate  Gender ParticipantType  \\\n",
       "0          18  Christine    Bowman 1978-03-06  FEMALE      INDIVIDUAL   \n",
       "1         110     Thomas     Burke 1971-09-04    MALE      INDIVIDUAL   \n",
       "2         422    Cynthia    Powell 1970-08-21  FEMALE      INDIVIDUAL   \n",
       "3         457       Gary     Baker 1963-01-01    MALE      INDIVIDUAL   \n",
       "4         690       Ruth     Baker 1952-02-13  FEMALE      INDIVIDUAL   \n",
       "\n",
       "   RegionID MaritalStatus  \n",
       "0       245        Single  \n",
       "1       388       Married  \n",
       "2       263        Single  \n",
       "3        74      Divorced  \n",
       "4       146       Married  "
      ]
     },
     "execution_count": 13,
     "metadata": {},
     "output_type": "execute_result"
    }
   ],
   "source": [
    "df.head()"
   ]
  },
  {
   "cell_type": "code",
   "execution_count": 1,
   "id": "5a74378f",
   "metadata": {},
   "outputs": [],
   "source": [
    "import matplotlib.pyplot as plt"
   ]
  },
  {
   "cell_type": "code",
   "execution_count": 14,
   "id": "f29ff733",
   "metadata": {},
   "outputs": [
    {
     "data": {
      "text/plain": [
       "<AxesSubplot:xlabel='Gender'>"
      ]
     },
     "execution_count": 14,
     "metadata": {},
     "output_type": "execute_result"
    },
    {
     "data": {
      "image/png": "[encoded data removed]",
      "text/plain": [
       "<Figure size 432x288 with 1 Axes>"
      ]
     },
     "metadata": {
      "needs_background": "light"
     },
     "output_type": "display_data"
    }
   ],
   "source": [
    "df.plot(x=\"Gender\", y=\"RegionID\")"
   ]
  },
  {
   "cell_type": "code",
   "execution_count": 1,
   "id": "4f7d8350",
   "metadata": {},
   "outputs": [
    {
     "ename": "NameError",
     "evalue": "name 'df' is not defined",
     "output_type": "error",
     "traceback": [
      "\u001b[1;31m---------------------------------------------------------------------------\u001b[0m",
      "\u001b[1;31mNameError\u001b[0m                                 Traceback (most recent call last)",
      "\u001b[1;32m<ipython-input-1-1216472522fc>\u001b[0m in \u001b[0;36m<module>\u001b[1;34m\u001b[0m\n\u001b[1;32m----> 1\u001b[1;33m \u001b[0mdf\u001b[0m\u001b[1;33m.\u001b[0m\u001b[0mplot\u001b[0m\u001b[1;33m.\u001b[0m\u001b[0marea\u001b[0m\u001b[1;33m(\u001b[0m\u001b[0mstacked\u001b[0m\u001b[1;33m=\u001b[0m\u001b[1;32mFalse\u001b[0m\u001b[1;33m)\u001b[0m\u001b[1;33m\u001b[0m\u001b[1;33m\u001b[0m\u001b[0m\n\u001b[0m",
      "\u001b[1;31mNameError\u001b[0m: name 'df' is not defined"
     ]
    }
   ],
   "source": [
    "df.plot.area(stacked=False)"
   ]
  },
  {
   "cell_type": "code",
   "execution_count": null,
   "id": "73c751da",
   "metadata": {},
   "outputs": [],
   "source": []
  }
 ],
 "metadata": {
  "kernelspec": {
   "display_name": "Python 3",
   "language": "python",
   "name": "python3"
  },
  "language_info": {
   "codemirror_mode": {
    "name": "ipython",
    "version": 3
   },
   "file_extension": ".py",
   "mimetype": "text/x-python",
   "name": "python",
   "nbconvert_exporter": "python",
   "pygments_lexer": "ipython3",
   "version": "3.8.8"
  }
 },
 "nbformat": 4,
 "nbformat_minor": 5
}
