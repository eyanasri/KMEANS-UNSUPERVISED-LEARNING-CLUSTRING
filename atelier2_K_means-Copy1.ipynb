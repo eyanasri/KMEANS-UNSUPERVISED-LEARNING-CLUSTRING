{
 "cells": [
  {
   "cell_type": "code",
   "execution_count": null,
   "metadata": {
    "id": "C1d-rTZ3aIdT"
   },
   "outputs": [],
   "source": [
    "#importation des données /chargement du fichier\n",
    "import pandas \n",
    "df = pandas.read_excel(\"C:/Users/HP/Desktop/Fichiers Finaux/ChangePatient.xlsx\",header=0)\n",
    "df"
   ]
  },
  {
   "cell_type": "code",
   "execution_count": null,
   "metadata": {
    "colab": {
     "base_uri": "https://localhost:8080/"
    },
    "id": "RZ5Z2_mDee1z",
    "outputId": "977b72f8-4da4-418e-e163-6a3886d0022a"
   },
   "outputs": [],
   "source": [
    "# vérifions le type de Voiture\n",
    "print(type(df))"
   ]
  },
  {
   "cell_type": "code",
   "execution_count": null,
   "metadata": {
    "colab": {
     "base_uri": "https://localhost:8080/"
    },
    "id": "i-I9na69ekdE",
    "outputId": "8d3bae0b-c285-4b19-d56e-084b2ddaa59b"
   },
   "outputs": [],
   "source": [
    "#dimensions : nombre de lignes, nombre de colonnes\n",
    "print(df.shape)"
   ]
  },
  {
   "cell_type": "code",
   "execution_count": null,
   "metadata": {
    "colab": {
     "base_uri": "https://localhost:8080/"
    },
    "id": "Fl0w-jglenAa",
    "outputId": "ebaf5d43-92b2-4b85-8793-af512f9cfc2f"
   },
   "outputs": [],
   "source": [
    "#Les noms des colonnes\n",
    "print(df.columns)"
   ]
  },
  {
   "cell_type": "code",
   "execution_count": null,
   "metadata": {
    "colab": {
     "base_uri": "https://localhost:8080/"
    },
    "id": "IvNUS_32fCcO",
    "outputId": "95aa1841-54f6-463c-f4a4-eb1bb12c1515"
   },
   "outputs": [],
   "source": [
    "#Type de chaque colonne\n",
    "print(df.dtypes)"
   ]
  },
  {
   "cell_type": "code",
   "execution_count": null,
   "metadata": {
    "colab": {
     "base_uri": "https://localhost:8080/"
    },
    "id": "Ez0Jc70LfE0G",
    "outputId": "86b015d2-3599-4d55-cabd-9a8af903b989"
   },
   "outputs": [],
   "source": [
    "#Description des données\n",
    "print(df.describe())"
   ]
  },
  {
   "cell_type": "code",
   "execution_count": 19,
   "metadata": {
    "colab": {
     "base_uri": "https://localhost:8080/",
     "height": 1000
    },
    "id": "TGYL2Tl-fMBb",
    "outputId": "68960206-5fae-4ca3-f252-2d9eb2219dd5"
   },
   "outputs": [
    {
     "data": {
      "text/plain": [
       "array([[<AxesSubplot:xlabel='Unnamed: 0', ylabel='Unnamed: 0'>,\n",
       "        <AxesSubplot:xlabel='JobLoss', ylabel='Unnamed: 0'>,\n",
       "        <AxesSubplot:xlabel='CovidAfterVaccin', ylabel='Unnamed: 0'>,\n",
       "        <AxesSubplot:xlabel='Vaccinated', ylabel='Unnamed: 0'>,\n",
       "        <AxesSubplot:xlabel='PatientId', ylabel='Unnamed: 0'>],\n",
       "       [<AxesSubplot:xlabel='Unnamed: 0', ylabel='JobLoss'>,\n",
       "        <AxesSubplot:xlabel='JobLoss', ylabel='JobLoss'>,\n",
       "        <AxesSubplot:xlabel='CovidAfterVaccin', ylabel='JobLoss'>,\n",
       "        <AxesSubplot:xlabel='Vaccinated', ylabel='JobLoss'>,\n",
       "        <AxesSubplot:xlabel='PatientId', ylabel='JobLoss'>],\n",
       "       [<AxesSubplot:xlabel='Unnamed: 0', ylabel='CovidAfterVaccin'>,\n",
       "        <AxesSubplot:xlabel='JobLoss', ylabel='CovidAfterVaccin'>,\n",
       "        <AxesSubplot:xlabel='CovidAfterVaccin', ylabel='CovidAfterVaccin'>,\n",
       "        <AxesSubplot:xlabel='Vaccinated', ylabel='CovidAfterVaccin'>,\n",
       "        <AxesSubplot:xlabel='PatientId', ylabel='CovidAfterVaccin'>],\n",
       "       [<AxesSubplot:xlabel='Unnamed: 0', ylabel='Vaccinated'>,\n",
       "        <AxesSubplot:xlabel='JobLoss', ylabel='Vaccinated'>,\n",
       "        <AxesSubplot:xlabel='CovidAfterVaccin', ylabel='Vaccinated'>,\n",
       "        <AxesSubplot:xlabel='Vaccinated', ylabel='Vaccinated'>,\n",
       "        <AxesSubplot:xlabel='PatientId', ylabel='Vaccinated'>],\n",
       "       [<AxesSubplot:xlabel='Unnamed: 0', ylabel='PatientId'>,\n",
       "        <AxesSubplot:xlabel='JobLoss', ylabel='PatientId'>,\n",
       "        <AxesSubplot:xlabel='CovidAfterVaccin', ylabel='PatientId'>,\n",
       "        <AxesSubplot:xlabel='Vaccinated', ylabel='PatientId'>,\n",
       "        <AxesSubplot:xlabel='PatientId', ylabel='PatientId'>]],\n",
       "      dtype=object)"
      ]
     },
     "execution_count": 19,
     "metadata": {},
     "output_type": "execute_result"
    },
    {
     "data": {
      "image/png": "[encoded data removed]",
      "text/plain": [
       "<Figure size 648x648 with 25 Axes>"
      ]
     },
     "metadata": {
      "needs_background": "light"
     },
     "output_type": "display_data"
    }
   ],
   "source": [
    "from pandas.plotting import scatter_matrix \n",
    "scatter_matrix(df,figsize=(9,9))"
   ]
  },
  {
   "cell_type": "code",
   "execution_count": 31,
   "metadata": {},
   "outputs": [],
   "source": [
    "del df['Unnamed: 0']"
   ]
  },
  {
   "cell_type": "code",
   "execution_count": 32,
   "metadata": {},
   "outputs": [
    {
     "data": {
      "text/html": [
       "<div>\n",
       "<style scoped>\n",
       "    .dataframe tbody tr th:only-of-type {\n",
       "        vertical-align: middle;\n",
       "    }\n",
       "\n",
       "    .dataframe tbody tr th {\n",
       "        vertical-align: top;\n",
       "    }\n",
       "\n",
       "    .dataframe thead th {\n",
       "        text-align: right;\n",
       "    }\n",
       "</style>\n",
       "<table border=\"1\" class=\"dataframe\">\n",
       "  <thead>\n",
       "    <tr style=\"text-align: right;\">\n",
       "      <th></th>\n",
       "      <th>Age Bracket</th>\n",
       "      <th>Gender</th>\n",
       "      <th>Detected State</th>\n",
       "      <th>State code</th>\n",
       "      <th>Current Status</th>\n",
       "      <th>Type of trans</th>\n",
       "      <th>Nationality</th>\n",
       "      <th>Symptoms</th>\n",
       "      <th>JobLoss</th>\n",
       "      <th>FinancialSituation</th>\n",
       "      <th>Diseases</th>\n",
       "      <th>Profession</th>\n",
       "      <th>CovidAfterVaccin</th>\n",
       "      <th>Vaccinated</th>\n",
       "      <th>PatientId</th>\n",
       "      <th>Reason</th>\n",
       "    </tr>\n",
       "  </thead>\n",
       "  <tbody>\n",
       "    <tr>\n",
       "      <th>0</th>\n",
       "      <td>0</td>\n",
       "      <td>0</td>\n",
       "      <td>Kerala</td>\n",
       "      <td>KL</td>\n",
       "      <td>1</td>\n",
       "      <td>0</td>\n",
       "      <td>India</td>\n",
       "      <td>0</td>\n",
       "      <td>1</td>\n",
       "      <td>1</td>\n",
       "      <td>NaN</td>\n",
       "      <td>4</td>\n",
       "      <td>0</td>\n",
       "      <td>1</td>\n",
       "      <td>1</td>\n",
       "      <td>NaN</td>\n",
       "    </tr>\n",
       "    <tr>\n",
       "      <th>1</th>\n",
       "      <td>0</td>\n",
       "      <td>1</td>\n",
       "      <td>Kerala</td>\n",
       "      <td>KL</td>\n",
       "      <td>1</td>\n",
       "      <td>0</td>\n",
       "      <td>India</td>\n",
       "      <td>0</td>\n",
       "      <td>1</td>\n",
       "      <td>2</td>\n",
       "      <td>NaN</td>\n",
       "      <td>3</td>\n",
       "      <td>1</td>\n",
       "      <td>1</td>\n",
       "      <td>2</td>\n",
       "      <td>NaN</td>\n",
       "    </tr>\n",
       "    <tr>\n",
       "      <th>2</th>\n",
       "      <td>0</td>\n",
       "      <td>1</td>\n",
       "      <td>Kerala</td>\n",
       "      <td>KL</td>\n",
       "      <td>1</td>\n",
       "      <td>0</td>\n",
       "      <td>India</td>\n",
       "      <td>0</td>\n",
       "      <td>0</td>\n",
       "      <td>1</td>\n",
       "      <td>NaN</td>\n",
       "      <td>0</td>\n",
       "      <td>0</td>\n",
       "      <td>1</td>\n",
       "      <td>3</td>\n",
       "      <td>NaN</td>\n",
       "    </tr>\n",
       "    <tr>\n",
       "      <th>3</th>\n",
       "      <td>0</td>\n",
       "      <td>1</td>\n",
       "      <td>Delhi</td>\n",
       "      <td>DL</td>\n",
       "      <td>1</td>\n",
       "      <td>0</td>\n",
       "      <td>India</td>\n",
       "      <td>3</td>\n",
       "      <td>1</td>\n",
       "      <td>2</td>\n",
       "      <td>NaN</td>\n",
       "      <td>5</td>\n",
       "      <td>0</td>\n",
       "      <td>0</td>\n",
       "      <td>4</td>\n",
       "      <td>4.0</td>\n",
       "    </tr>\n",
       "    <tr>\n",
       "      <th>4</th>\n",
       "      <td>0</td>\n",
       "      <td>1</td>\n",
       "      <td>Telangana</td>\n",
       "      <td>TG</td>\n",
       "      <td>1</td>\n",
       "      <td>0</td>\n",
       "      <td>India</td>\n",
       "      <td>3</td>\n",
       "      <td>0</td>\n",
       "      <td>1</td>\n",
       "      <td>NaN</td>\n",
       "      <td>3</td>\n",
       "      <td>0</td>\n",
       "      <td>0</td>\n",
       "      <td>5</td>\n",
       "      <td>0.0</td>\n",
       "    </tr>\n",
       "    <tr>\n",
       "      <th>...</th>\n",
       "      <td>...</td>\n",
       "      <td>...</td>\n",
       "      <td>...</td>\n",
       "      <td>...</td>\n",
       "      <td>...</td>\n",
       "      <td>...</td>\n",
       "      <td>...</td>\n",
       "      <td>...</td>\n",
       "      <td>...</td>\n",
       "      <td>...</td>\n",
       "      <td>...</td>\n",
       "      <td>...</td>\n",
       "      <td>...</td>\n",
       "      <td>...</td>\n",
       "      <td>...</td>\n",
       "      <td>...</td>\n",
       "    </tr>\n",
       "    <tr>\n",
       "      <th>247231</th>\n",
       "      <td>0</td>\n",
       "      <td>1</td>\n",
       "      <td>Karnataka</td>\n",
       "      <td>KA</td>\n",
       "      <td>0</td>\n",
       "      <td>1</td>\n",
       "      <td>India</td>\n",
       "      <td>3</td>\n",
       "      <td>1</td>\n",
       "      <td>2</td>\n",
       "      <td>2.0</td>\n",
       "      <td>4</td>\n",
       "      <td>1</td>\n",
       "      <td>1</td>\n",
       "      <td>247232</td>\n",
       "      <td>NaN</td>\n",
       "    </tr>\n",
       "    <tr>\n",
       "      <th>247232</th>\n",
       "      <td>0</td>\n",
       "      <td>1</td>\n",
       "      <td>Karnataka</td>\n",
       "      <td>KA</td>\n",
       "      <td>0</td>\n",
       "      <td>1</td>\n",
       "      <td>India</td>\n",
       "      <td>1</td>\n",
       "      <td>1</td>\n",
       "      <td>2</td>\n",
       "      <td>3.0</td>\n",
       "      <td>0</td>\n",
       "      <td>0</td>\n",
       "      <td>0</td>\n",
       "      <td>247233</td>\n",
       "      <td>3.0</td>\n",
       "    </tr>\n",
       "    <tr>\n",
       "      <th>247233</th>\n",
       "      <td>0</td>\n",
       "      <td>1</td>\n",
       "      <td>Karnataka</td>\n",
       "      <td>KA</td>\n",
       "      <td>0</td>\n",
       "      <td>1</td>\n",
       "      <td>India</td>\n",
       "      <td>1</td>\n",
       "      <td>0</td>\n",
       "      <td>1</td>\n",
       "      <td>3.0</td>\n",
       "      <td>3</td>\n",
       "      <td>0</td>\n",
       "      <td>0</td>\n",
       "      <td>247234</td>\n",
       "      <td>4.0</td>\n",
       "    </tr>\n",
       "    <tr>\n",
       "      <th>247234</th>\n",
       "      <td>0</td>\n",
       "      <td>1</td>\n",
       "      <td>Karnataka</td>\n",
       "      <td>KA</td>\n",
       "      <td>0</td>\n",
       "      <td>1</td>\n",
       "      <td>India</td>\n",
       "      <td>0</td>\n",
       "      <td>1</td>\n",
       "      <td>1</td>\n",
       "      <td>3.0</td>\n",
       "      <td>3</td>\n",
       "      <td>0</td>\n",
       "      <td>1</td>\n",
       "      <td>247235</td>\n",
       "      <td>NaN</td>\n",
       "    </tr>\n",
       "    <tr>\n",
       "      <th>247235</th>\n",
       "      <td>0</td>\n",
       "      <td>1</td>\n",
       "      <td>Karnataka</td>\n",
       "      <td>KA</td>\n",
       "      <td>0</td>\n",
       "      <td>1</td>\n",
       "      <td>India</td>\n",
       "      <td>0</td>\n",
       "      <td>1</td>\n",
       "      <td>1</td>\n",
       "      <td>0.0</td>\n",
       "      <td>4</td>\n",
       "      <td>0</td>\n",
       "      <td>0</td>\n",
       "      <td>247236</td>\n",
       "      <td>1.0</td>\n",
       "    </tr>\n",
       "  </tbody>\n",
       "</table>\n",
       "<p>247236 rows × 16 columns</p>\n",
       "</div>"
      ],
      "text/plain": [
       "        Age Bracket  Gender Detected State State code  Current Status  \\\n",
       "0                 0       0         Kerala         KL               1   \n",
       "1                 0       1         Kerala         KL               1   \n",
       "2                 0       1         Kerala         KL               1   \n",
       "3                 0       1          Delhi         DL               1   \n",
       "4                 0       1      Telangana         TG               1   \n",
       "...             ...     ...            ...        ...             ...   \n",
       "247231            0       1      Karnataka         KA               0   \n",
       "247232            0       1      Karnataka         KA               0   \n",
       "247233            0       1      Karnataka         KA               0   \n",
       "247234            0       1      Karnataka         KA               0   \n",
       "247235            0       1      Karnataka         KA               0   \n",
       "\n",
       "       Type of trans Nationality  Symptoms  JobLoss  FinancialSituation  \\\n",
       "0                  0       India         0        1                   1   \n",
       "1                  0       India         0        1                   2   \n",
       "2                  0       India         0        0                   1   \n",
       "3                  0       India         3        1                   2   \n",
       "4                  0       India         3        0                   1   \n",
       "...              ...         ...       ...      ...                 ...   \n",
       "247231             1       India         3        1                   2   \n",
       "247232             1       India         1        1                   2   \n",
       "247233             1       India         1        0                   1   \n",
       "247234             1       India         0        1                   1   \n",
       "247235             1       India         0        1                   1   \n",
       "\n",
       "        Diseases  Profession  CovidAfterVaccin  Vaccinated  PatientId  Reason  \n",
       "0            NaN           4                 0           1          1     NaN  \n",
       "1            NaN           3                 1           1          2     NaN  \n",
       "2            NaN           0                 0           1          3     NaN  \n",
       "3            NaN           5                 0           0          4     4.0  \n",
       "4            NaN           3                 0           0          5     0.0  \n",
       "...          ...         ...               ...         ...        ...     ...  \n",
       "247231       2.0           4                 1           1     247232     NaN  \n",
       "247232       3.0           0                 0           0     247233     3.0  \n",
       "247233       3.0           3                 0           0     247234     4.0  \n",
       "247234       3.0           3                 0           1     247235     NaN  \n",
       "247235       0.0           4                 0           0     247236     1.0  \n",
       "\n",
       "[247236 rows x 16 columns]"
      ]
     },
     "execution_count": 32,
     "metadata": {},
     "output_type": "execute_result"
    }
   ],
   "source": [
    "df"
   ]
  },
  {
   "cell_type": "code",
   "execution_count": 38,
   "metadata": {
    "id": "dnzeKf1EfQEr"
   },
   "outputs": [],
   "source": [
    "# valeurs de toutes les colonnes\n",
    "#colonnes => 0:5 (0 à 5 [non inclus])\n",
    "#lignes = : (toutes les colonnes)\n",
    "#gender\n",
    "V_SansLabels=df.iloc[:,1:2];\n",
    "#Labels\n",
    "V_Labels=df.iloc[:,1];"
   ]
  },
  {
   "cell_type": "code",
   "execution_count": 40,
   "metadata": {
    "colab": {
     "base_uri": "https://localhost:8080/",
     "height": 1000
    },
    "id": "TJRVvubSfYw3",
    "outputId": "fcdeaf96-b953-4881-857c-d5a9241a3d9a"
   },
   "outputs": [
    {
     "name": "stdout",
     "output_type": "stream",
     "text": [
      "         0\n",
      "0   123617\n",
      "0   157249\n",
      "0   157250\n",
      "0   157251\n",
      "0   157253\n",
      "..     ...\n",
      "1   148753\n",
      "1   148752\n",
      "1   148749\n",
      "1   200306\n",
      "1        0\n",
      "\n",
      "[247236 rows x 1 columns]\n",
      "[[1.00000000e+00 1.39666056e-13]\n",
      " [0.00000000e+00 1.00000000e+00]\n",
      " [0.00000000e+00 1.00000000e+00]\n",
      " ...\n",
      " [0.00000000e+00 1.00000000e+00]\n",
      " [0.00000000e+00 1.00000000e+00]\n",
      " [0.00000000e+00 1.00000000e+00]]\n"
     ]
    },
    {
     "data": {
      "text/html": [
       "<div>\n",
       "<style scoped>\n",
       "    .dataframe tbody tr th:only-of-type {\n",
       "        vertical-align: middle;\n",
       "    }\n",
       "\n",
       "    .dataframe tbody tr th {\n",
       "        vertical-align: top;\n",
       "    }\n",
       "\n",
       "    .dataframe thead th {\n",
       "        text-align: right;\n",
       "    }\n",
       "</style>\n",
       "<table border=\"1\" class=\"dataframe\">\n",
       "  <thead>\n",
       "    <tr style=\"text-align: right;\">\n",
       "      <th>col_0</th>\n",
       "      <th>0</th>\n",
       "      <th>1</th>\n",
       "    </tr>\n",
       "    <tr>\n",
       "      <th>Gender</th>\n",
       "      <th></th>\n",
       "      <th></th>\n",
       "    </tr>\n",
       "  </thead>\n",
       "  <tbody>\n",
       "    <tr>\n",
       "      <th>0</th>\n",
       "      <td>0</td>\n",
       "      <td>38423</td>\n",
       "    </tr>\n",
       "    <tr>\n",
       "      <th>1</th>\n",
       "      <td>208813</td>\n",
       "      <td>0</td>\n",
       "    </tr>\n",
       "  </tbody>\n",
       "</table>\n",
       "</div>"
      ],
      "text/plain": [
       "col_0        0      1\n",
       "Gender               \n",
       "0            0  38423\n",
       "1       208813      0"
      ]
     },
     "execution_count": 40,
     "metadata": {},
     "output_type": "execute_result"
    }
   ],
   "source": [
    "#k-means \n",
    "import numpy as np\n",
    "from sklearn import cluster \n",
    "kmeans = cluster.KMeans(n_clusters=2);\n",
    "kmeans.fit(V_SansLabels);\n",
    "#index triés des groupes \n",
    "idk = np.argsort(kmeans.labels_);\n",
    "#affichage des observations et leurs groupes \n",
    "print(pandas.DataFrame(V_SansLabels.index[idk],kmeans.labels_[idk]));\n",
    "kmeans.labels_\n",
    "#distances aux centres de classes des observations \n",
    "print(kmeans.transform(V_SansLabels));\n",
    "#correspondance avec les groupes réels \n",
    "pandas.crosstab(V_Labels,kmeans.labels_)"
   ]
  },
  {
   "cell_type": "code",
   "execution_count": null,
   "metadata": {
    "colab": {
     "base_uri": "https://localhost:8080/",
     "height": 329
    },
    "id": "KI8AUcc_fbBD",
    "outputId": "85324115-4ebd-49d5-8a12-e7088db7fc19"
   },
   "outputs": [
    {
     "name": "stderr",
     "output_type": "stream",
     "text": [
      "C:\\Users\\HP\\AppData\\Local\\Temp/ipykernel_6116/2047282598.py:9: ConvergenceWarning: Number of distinct clusters (2) found smaller than n_clusters (3). Possibly due to duplicate points in X.\n",
      "  km.fit(V_SansLabels)\n",
      "C:\\Users\\HP\\AppData\\Local\\Temp/ipykernel_6116/2047282598.py:9: ConvergenceWarning: Number of distinct clusters (2) found smaller than n_clusters (4). Possibly due to duplicate points in X.\n",
      "  km.fit(V_SansLabels)\n",
      "C:\\Users\\HP\\AppData\\Local\\Temp/ipykernel_6116/2047282598.py:9: ConvergenceWarning: Number of distinct clusters (2) found smaller than n_clusters (5). Possibly due to duplicate points in X.\n",
      "  km.fit(V_SansLabels)\n"
     ]
    }
   ],
   "source": [
    "#librairie pour évaluation des partitions \n",
    "from sklearn import metrics\n",
    "\n",
    "#utilisation de la métrique \"silhouette\" \n",
    "#faire varier le nombre de clusters de 2 à 10 \n",
    "res = np.arange(9,dtype=\"double\") \n",
    "for k in np.arange(9): \n",
    "  km = cluster.KMeans(n_clusters=k+2) \n",
    "  km.fit(V_SansLabels) \n",
    "  res[k] = metrics.silhouette_score(V_SansLabels,km.labels_)\n",
    "print(res)\n",
    "#graphique \n",
    "import matplotlib.pyplot as plt \n",
    "plt.title(\"Silhouette\") \n",
    "plt.xlabel(\"# of clusters\") \n",
    "plt.plot(np.arange(2,11,1),res) \n",
    "plt.show()"
   ]
  },
  {
   "cell_type": "code",
   "execution_count": null,
   "metadata": {},
   "outputs": [],
   "source": []
  },
  {
   "cell_type": "code",
   "execution_count": null,
   "metadata": {},
   "outputs": [],
   "source": []
  },
  {
   "cell_type": "code",
   "execution_count": null,
   "metadata": {},
   "outputs": [],
   "source": []
  },
  {
   "cell_type": "code",
   "execution_count": null,
   "metadata": {},
   "outputs": [],
   "source": []
  },
  {
   "cell_type": "code",
   "execution_count": null,
   "metadata": {},
   "outputs": [],
   "source": [
    "#CAHHHHHHHHHHHHHHH"
   ]
  },
  {
   "cell_type": "code",
   "execution_count": null,
   "metadata": {
    "id": "aNQ4hXyWfo86"
   },
   "outputs": [],
   "source": [
    "#librairies pour la CAH \n",
    "from matplotlib import pyplot as plt \n",
    "from scipy.cluster.hierarchy import dendrogram, linkage,fcluster"
   ]
  },
  {
   "cell_type": "code",
   "execution_count": null,
   "metadata": {
    "id": "tQVCc4uYfsNL"
   },
   "outputs": [],
   "source": [
    "#générer la matrice des distances \n",
    "Z = linkage(V_SansLabels,method='ward',metric='euclidean')"
   ]
  },
  {
   "cell_type": "code",
   "execution_count": null,
   "metadata": {
    "colab": {
     "base_uri": "https://localhost:8080/",
     "height": 281
    },
    "id": "gCcCr7nEfuMO",
    "outputId": "28ddaf06-887b-49a3-ffb3-c4bbec3a295d"
   },
   "outputs": [
    {
     "data": {
      "image/png": "[encoded data removed]",
      "text/plain": [
       "<Figure size 432x288 with 1 Axes>"
      ]
     },
     "metadata": {
      "needs_background": "light",
      "tags": []
     },
     "output_type": "display_data"
    }
   ],
   "source": [
    "#affichage du dendrogramme \n",
    "plt.title(\"CHA\") \n",
    "dendrogram(Z,labels=V_SansLabels.index,orientation='top',color_threshold=0) \n",
    "plt.show()"
   ]
  },
  {
   "cell_type": "code",
   "execution_count": null,
   "metadata": {
    "colab": {
     "base_uri": "https://localhost:8080/",
     "height": 706
    },
    "id": "domKBU-vfwCq",
    "outputId": "1d892b71-ec75-4c6f-dd14-82b311510d85"
   },
   "outputs": [
    {
     "data": {
      "image/png": "[encoded data removed]",
      "text/plain": [
       "<Figure size 432x288 with 1 Axes>"
      ]
     },
     "metadata": {
      "needs_background": "light",
      "tags": []
     },
     "output_type": "display_data"
    },
    {
     "name": "stdout",
     "output_type": "stream",
     "text": [
      "[2 2 2 2 2 2 2 2 2 2 2 2 2 2 2 2 2 2 2 2 2 2 2 2 2 2 2 2 2 2 2 2 2 2 2 2 2\n",
      " 2 2 2 2 2 2 2 2 2 2 2 2 2 2 2 2 2 2 2 2 2 2 2 2 2 2 2 2 2 2 2 2 2 2 2 2 2\n",
      " 2 2 2 2 2 2 2 2 2 2 2 2 2 2 2 2 2 2 2 2 2 2 2 2 2 2 2 2 2 2 2 2 2 2 2 2 2\n",
      " 2 2 2 2 2 2 2 2 2 2 2 2 2 2 2 2 2 2 2 2 2 2 2 2 2 2 2 2 2 2 2 2 2 2 2 2 2\n",
      " 2 2 2 2 2 2 2 2 2 2 2 2 2 2 2 2 2 2 2 2 2 2 2 2 2 2 2 2 2 2 2 2 2 2 2 2 2\n",
      " 2 2 2 2 2 2 2 2 2 2 2 2 2 2 2 2 2 2 2 2 2 2 2 2 2 2 2 2 2 2 2 2 2 2 2 2 2\n",
      " 2 2 2 2 2 2 2 2 2 2 2 2 2 2 2 2 2 2 2 2 2 2 2 2 2 2 2 2 2 2 2 2 2 2 2 2 2\n",
      " 2 1 1 1 1 1 1 1 1 1 1 1 1 1 1 1 1 1 1 1 1 1 1 1 1 1 1 1 1 1 1 1 1 1 1 1 1\n",
      " 1 1 1 1 1 1 1 1 1 1 1 1 1 1 1 1 1 1 1 1 1 1 1 1 1 1 1 1 1 1 1 1 1 1 1 1 1\n",
      " 1 1 1 1 1 1 1 1 1 1 1 1 1 1 1 1 1 1 1 1 1 1 1 1 1 1 1 1 1 1 1 1 1 1 1 1 1\n",
      " 1 1 1 1 1 1 1 1 1 1 1 1 1 1 1 1 1 1 1 1 1 1]\n",
      "    Numero\n",
      "1      392\n",
      "1      295\n",
      "1      296\n",
      "1      297\n",
      "1      298\n",
      "..     ...\n",
      "2      126\n",
      "2      125\n",
      "2      124\n",
      "2      146\n",
      "2      196\n",
      "\n",
      "[392 rows x 1 columns]\n"
     ]
    }
   ],
   "source": [
    "# matérialisation des deux classes (hauteur t = 17500) \n",
    "plt.title('CAH avec matérialisation des 2 classes') \n",
    "dendrogram(Z,labels=V_SansLabels.index,orientation='top',color_threshold=17500) \n",
    "plt.show()\n",
    "\n",
    "#découpage à la hauteur t = 17500==> identifiants de 2 groupes obtenus \n",
    "groupes_cah = fcluster(Z,t=17500,criterion='distance') \n",
    "print(groupes_cah)\n",
    "\n",
    "#index triés des groupes \n",
    "import numpy as np \n",
    "idg = np.argsort(groupes_cah)\n",
    "\n",
    "#affichage des observations et leurs groupes\n",
    "print(pandas.DataFrame(V_SansLabels.index[idg],groupes_cah[idg]))"
   ]
  },
  {
   "cell_type": "code",
   "execution_count": null,
   "metadata": {
    "colab": {
     "base_uri": "https://localhost:8080/",
     "height": 173
    },
    "id": "JcR9ezoUf5nN",
    "outputId": "25a5d8ea-5df4-48f2-bf1f-ffcc823c1360"
   },
   "outputs": [
    {
     "data": {
      "text/html": [
       "<div>\n",
       "<style scoped>\n",
       "    .dataframe tbody tr th:only-of-type {\n",
       "        vertical-align: middle;\n",
       "    }\n",
       "\n",
       "    .dataframe tbody tr th {\n",
       "        vertical-align: top;\n",
       "    }\n",
       "\n",
       "    .dataframe thead th {\n",
       "        text-align: right;\n",
       "    }\n",
       "</style>\n",
       "<table border=\"1\" class=\"dataframe\">\n",
       "  <thead>\n",
       "    <tr style=\"text-align: right;\">\n",
       "      <th>col_0</th>\n",
       "      <th>1</th>\n",
       "      <th>2</th>\n",
       "    </tr>\n",
       "    <tr>\n",
       "      <th>origin</th>\n",
       "      <th></th>\n",
       "      <th></th>\n",
       "    </tr>\n",
       "  </thead>\n",
       "  <tbody>\n",
       "    <tr>\n",
       "      <th>american</th>\n",
       "      <td>129</td>\n",
       "      <td>116</td>\n",
       "    </tr>\n",
       "    <tr>\n",
       "      <th>european</th>\n",
       "      <td>3</td>\n",
       "      <td>65</td>\n",
       "    </tr>\n",
       "    <tr>\n",
       "      <th>japanese</th>\n",
       "      <td>0</td>\n",
       "      <td>79</td>\n",
       "    </tr>\n",
       "  </tbody>\n",
       "</table>\n",
       "</div>"
      ],
      "text/plain": [
       "col_0       1    2\n",
       "origin            \n",
       "american  129  116\n",
       "european    3   65\n",
       "japanese    0   79"
      ]
     },
     "execution_count": 18,
     "metadata": {
      "tags": []
     },
     "output_type": "execute_result"
    }
   ],
   "source": [
    "#correspondance les vrais labels avec les groupes de la CAH \n",
    "pandas.crosstab(V_Labels,groupes_cah)"
   ]
  },
  {
   "cell_type": "code",
   "execution_count": null,
   "metadata": {
    "id": "FULJoAhOf_rB"
   },
   "outputs": [],
   "source": []
  }
 ],
 "metadata": {
  "colab": {
   "collapsed_sections": [],
   "name": "atelier2_K-means.ipynb",
   "provenance": []
  },
  "kernelspec": {
   "display_name": "Python 3",
   "language": "python",
   "name": "python3"
  },
  "language_info": {
   "codemirror_mode": {
    "name": "ipython",
    "version": 3
   },
   "file_extension": ".py",
   "mimetype": "text/x-python",
   "name": "python",
   "nbconvert_exporter": "python",
   "pygments_lexer": "ipython3",
   "version": "3.8.8"
  }
 },
 "nbformat": 4,
 "nbformat_minor": 1
}
