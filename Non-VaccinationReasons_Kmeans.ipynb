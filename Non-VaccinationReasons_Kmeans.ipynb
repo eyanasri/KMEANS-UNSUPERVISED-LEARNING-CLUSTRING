{
 "cells": [
  {
   "cell_type": "markdown",
   "id": "5e861d89",
   "metadata": {},
   "source": [
    "# Vaccination Barriers - KMEANS"
   ]
  },
  {
   "cell_type": "markdown",
   "id": "3bdfb2e8",
   "metadata": {},
   "source": [
    "### Segmentation (clustering) is an unsupervised technique, it makes part of the descriptive analysis methods\n",
    "### Objectives of segmentation: Grouping\n",
    "### Problem: Finding the number of clusters"
   ]
  },
  {
   "cell_type": "markdown",
   "id": "20195334",
   "metadata": {},
   "source": [
    "In this report we are aiming to regroup and identify the vaccination barriers in order to identify the vaccination weeknesses and to improove the sensibilisation compaignes targets"
   ]
  },
  {
   "cell_type": "markdown",
   "id": "8713e8a4",
   "metadata": {},
   "source": [
    "## Importing The dataset"
   ]
  },
  {
   "cell_type": "code",
   "execution_count": 3,
   "id": "311a712d",
   "metadata": {},
   "outputs": [],
   "source": [
    "import pandas as pd\n",
    "import numpy as np\n",
    "import matplotlib.pyplot as plt\n",
    "import seaborn as sns\n",
    "import warnings\n",
    "\n",
    "%matplotlib inline\n",
    "warnings.filterwarnings('ignore')\n",
    "sns.set_style(\"whitegrid\")\n",
    "plt.style.use(\"fivethirtyeight\")"
   ]
  },
  {
   "cell_type": "code",
   "execution_count": 4,
   "id": "df6b4a2c",
   "metadata": {},
   "outputs": [
    {
     "data": {
      "text/html": [
       "<div>\n",
       "<style scoped>\n",
       "    .dataframe tbody tr th:only-of-type {\n",
       "        vertical-align: middle;\n",
       "    }\n",
       "\n",
       "    .dataframe tbody tr th {\n",
       "        vertical-align: top;\n",
       "    }\n",
       "\n",
       "    .dataframe thead th {\n",
       "        text-align: right;\n",
       "    }\n",
       "</style>\n",
       "<table border=\"1\" class=\"dataframe\">\n",
       "  <thead>\n",
       "    <tr style=\"text-align: right;\">\n",
       "      <th></th>\n",
       "      <th>Unnamed: 0</th>\n",
       "      <th>Date Announced</th>\n",
       "      <th>Age Bracket</th>\n",
       "      <th>Age</th>\n",
       "      <th>Gender</th>\n",
       "      <th>Detected State</th>\n",
       "      <th>PovertyRate</th>\n",
       "      <th>Current Status</th>\n",
       "      <th>Type of trans</th>\n",
       "      <th>Nationality</th>\n",
       "      <th>Symptoms</th>\n",
       "      <th>JobLoss</th>\n",
       "      <th>FinancialSituation</th>\n",
       "      <th>Diseases</th>\n",
       "      <th>Profession</th>\n",
       "      <th>CovidAfterVaccin</th>\n",
       "      <th>Vaccinated</th>\n",
       "      <th>Reason</th>\n",
       "    </tr>\n",
       "  </thead>\n",
       "  <tbody>\n",
       "    <tr>\n",
       "      <th>0</th>\n",
       "      <td>0</td>\n",
       "      <td>1/30/2020</td>\n",
       "      <td>0</td>\n",
       "      <td>1.0</td>\n",
       "      <td>0</td>\n",
       "      <td>16</td>\n",
       "      <td>7.05</td>\n",
       "      <td>1</td>\n",
       "      <td>1</td>\n",
       "      <td>India</td>\n",
       "      <td>1</td>\n",
       "      <td>2</td>\n",
       "      <td>1</td>\n",
       "      <td>4</td>\n",
       "      <td>1</td>\n",
       "      <td>0</td>\n",
       "      <td>1</td>\n",
       "      <td>0.0</td>\n",
       "    </tr>\n",
       "    <tr>\n",
       "      <th>1</th>\n",
       "      <td>1</td>\n",
       "      <td>2/2/2020</td>\n",
       "      <td>0</td>\n",
       "      <td>1.0</td>\n",
       "      <td>1</td>\n",
       "      <td>16</td>\n",
       "      <td>7.05</td>\n",
       "      <td>1</td>\n",
       "      <td>1</td>\n",
       "      <td>India</td>\n",
       "      <td>5</td>\n",
       "      <td>0</td>\n",
       "      <td>0</td>\n",
       "      <td>4</td>\n",
       "      <td>2</td>\n",
       "      <td>1</td>\n",
       "      <td>1</td>\n",
       "      <td>0.0</td>\n",
       "    </tr>\n",
       "    <tr>\n",
       "      <th>2</th>\n",
       "      <td>2</td>\n",
       "      <td>2/3/2020</td>\n",
       "      <td>0</td>\n",
       "      <td>1.0</td>\n",
       "      <td>1</td>\n",
       "      <td>16</td>\n",
       "      <td>7.05</td>\n",
       "      <td>1</td>\n",
       "      <td>1</td>\n",
       "      <td>India</td>\n",
       "      <td>1</td>\n",
       "      <td>2</td>\n",
       "      <td>1</td>\n",
       "      <td>4</td>\n",
       "      <td>1</td>\n",
       "      <td>0</td>\n",
       "      <td>1</td>\n",
       "      <td>0.0</td>\n",
       "    </tr>\n",
       "    <tr>\n",
       "      <th>3</th>\n",
       "      <td>3</td>\n",
       "      <td>3/2/2020</td>\n",
       "      <td>0</td>\n",
       "      <td>1.0</td>\n",
       "      <td>1</td>\n",
       "      <td>8</td>\n",
       "      <td>9.91</td>\n",
       "      <td>1</td>\n",
       "      <td>1</td>\n",
       "      <td>India</td>\n",
       "      <td>2</td>\n",
       "      <td>2</td>\n",
       "      <td>0</td>\n",
       "      <td>2</td>\n",
       "      <td>1</td>\n",
       "      <td>0</td>\n",
       "      <td>0</td>\n",
       "      <td>2.0</td>\n",
       "    </tr>\n",
       "    <tr>\n",
       "      <th>4</th>\n",
       "      <td>4</td>\n",
       "      <td>3/2/2020</td>\n",
       "      <td>0</td>\n",
       "      <td>1.0</td>\n",
       "      <td>1</td>\n",
       "      <td>31</td>\n",
       "      <td>13.74</td>\n",
       "      <td>1</td>\n",
       "      <td>1</td>\n",
       "      <td>India</td>\n",
       "      <td>2</td>\n",
       "      <td>0</td>\n",
       "      <td>1</td>\n",
       "      <td>4</td>\n",
       "      <td>2</td>\n",
       "      <td>0</td>\n",
       "      <td>0</td>\n",
       "      <td>4.0</td>\n",
       "    </tr>\n",
       "  </tbody>\n",
       "</table>\n",
       "</div>"
      ],
      "text/plain": [
       "   Unnamed: 0 Date Announced  Age Bracket  Age  Gender  Detected State  \\\n",
       "0           0      1/30/2020            0  1.0       0              16   \n",
       "1           1       2/2/2020            0  1.0       1              16   \n",
       "2           2       2/3/2020            0  1.0       1              16   \n",
       "3           3       3/2/2020            0  1.0       1               8   \n",
       "4           4       3/2/2020            0  1.0       1              31   \n",
       "\n",
       "   PovertyRate  Current Status  Type of trans Nationality  Symptoms  JobLoss  \\\n",
       "0         7.05               1              1       India         1        2   \n",
       "1         7.05               1              1       India         5        0   \n",
       "2         7.05               1              1       India         1        2   \n",
       "3         9.91               1              1       India         2        2   \n",
       "4        13.74               1              1       India         2        0   \n",
       "\n",
       "   FinancialSituation  Diseases  Profession  CovidAfterVaccin  Vaccinated  \\\n",
       "0                   1         4           1                 0           1   \n",
       "1                   0         4           2                 1           1   \n",
       "2                   1         4           1                 0           1   \n",
       "3                   0         2           1                 0           0   \n",
       "4                   1         4           2                 0           0   \n",
       "\n",
       "   Reason  \n",
       "0     0.0  \n",
       "1     0.0  \n",
       "2     0.0  \n",
       "3     2.0  \n",
       "4     4.0  "
      ]
     },
     "execution_count": 4,
     "metadata": {},
     "output_type": "execute_result"
    }
   ],
   "source": [
    "df = pd.read_csv('DimPatientCoded.csv')\n",
    "df.head()"
   ]
  },
  {
   "cell_type": "markdown",
   "id": "477c59f6",
   "metadata": {},
   "source": [
    "### Cleaning the Data"
   ]
  },
  {
   "cell_type": "code",
   "execution_count": 8,
   "id": "ce9bd794",
   "metadata": {},
   "outputs": [],
   "source": [
    "del df['Unnamed: 0']\n",
    "del df['Date Announced']\n",
    "del df['CovidAfterVaccin']\n",
    "del df['Vaccinated']\n",
    "del df['Symptoms']\n",
    "del df['Type of trans']\n",
    "del df['Age']\n",
    "del df['Age Bracket']\n",
    "del df['Nationality']"
   ]
  },
  {
   "cell_type": "markdown",
   "id": "a05ba92f",
   "metadata": {},
   "source": [
    "## Data set introduction"
   ]
  },
  {
   "cell_type": "code",
   "execution_count": 9,
   "id": "b6cab6e2",
   "metadata": {},
   "outputs": [
    {
     "data": {
      "text/plain": [
       "(247236, 9)"
      ]
     },
     "execution_count": 9,
     "metadata": {},
     "output_type": "execute_result"
    }
   ],
   "source": [
    "df.shape"
   ]
  },
  {
   "cell_type": "markdown",
   "id": "1dda95b8",
   "metadata": {},
   "source": [
    "showing the  loaded data set Dimentions , ( Lignes , Columns )"
   ]
  },
  {
   "cell_type": "code",
   "execution_count": 10,
   "id": "880ba75f",
   "metadata": {},
   "outputs": [
    {
     "data": {
      "text/html": [
       "<div>\n",
       "<style scoped>\n",
       "    .dataframe tbody tr th:only-of-type {\n",
       "        vertical-align: middle;\n",
       "    }\n",
       "\n",
       "    .dataframe tbody tr th {\n",
       "        vertical-align: top;\n",
       "    }\n",
       "\n",
       "    .dataframe thead th {\n",
       "        text-align: right;\n",
       "    }\n",
       "</style>\n",
       "<table border=\"1\" class=\"dataframe\">\n",
       "  <thead>\n",
       "    <tr style=\"text-align: right;\">\n",
       "      <th></th>\n",
       "      <th>Gender</th>\n",
       "      <th>Detected State</th>\n",
       "      <th>PovertyRate</th>\n",
       "      <th>Current Status</th>\n",
       "      <th>JobLoss</th>\n",
       "      <th>FinancialSituation</th>\n",
       "      <th>Diseases</th>\n",
       "      <th>Profession</th>\n",
       "      <th>Reason</th>\n",
       "    </tr>\n",
       "  </thead>\n",
       "  <tbody>\n",
       "    <tr>\n",
       "      <th>0</th>\n",
       "      <td>0</td>\n",
       "      <td>16</td>\n",
       "      <td>7.05</td>\n",
       "      <td>1</td>\n",
       "      <td>2</td>\n",
       "      <td>1</td>\n",
       "      <td>4</td>\n",
       "      <td>1</td>\n",
       "      <td>0.0</td>\n",
       "    </tr>\n",
       "    <tr>\n",
       "      <th>1</th>\n",
       "      <td>1</td>\n",
       "      <td>16</td>\n",
       "      <td>7.05</td>\n",
       "      <td>1</td>\n",
       "      <td>0</td>\n",
       "      <td>0</td>\n",
       "      <td>4</td>\n",
       "      <td>2</td>\n",
       "      <td>0.0</td>\n",
       "    </tr>\n",
       "    <tr>\n",
       "      <th>2</th>\n",
       "      <td>1</td>\n",
       "      <td>16</td>\n",
       "      <td>7.05</td>\n",
       "      <td>1</td>\n",
       "      <td>2</td>\n",
       "      <td>1</td>\n",
       "      <td>4</td>\n",
       "      <td>1</td>\n",
       "      <td>0.0</td>\n",
       "    </tr>\n",
       "    <tr>\n",
       "      <th>3</th>\n",
       "      <td>1</td>\n",
       "      <td>8</td>\n",
       "      <td>9.91</td>\n",
       "      <td>1</td>\n",
       "      <td>2</td>\n",
       "      <td>0</td>\n",
       "      <td>2</td>\n",
       "      <td>1</td>\n",
       "      <td>2.0</td>\n",
       "    </tr>\n",
       "    <tr>\n",
       "      <th>4</th>\n",
       "      <td>1</td>\n",
       "      <td>31</td>\n",
       "      <td>13.74</td>\n",
       "      <td>1</td>\n",
       "      <td>0</td>\n",
       "      <td>1</td>\n",
       "      <td>4</td>\n",
       "      <td>2</td>\n",
       "      <td>4.0</td>\n",
       "    </tr>\n",
       "  </tbody>\n",
       "</table>\n",
       "</div>"
      ],
      "text/plain": [
       "   Gender  Detected State  PovertyRate  Current Status  JobLoss  \\\n",
       "0       0              16         7.05               1        2   \n",
       "1       1              16         7.05               1        0   \n",
       "2       1              16         7.05               1        2   \n",
       "3       1               8         9.91               1        2   \n",
       "4       1              31        13.74               1        0   \n",
       "\n",
       "   FinancialSituation  Diseases  Profession  Reason  \n",
       "0                   1         4           1     0.0  \n",
       "1                   0         4           2     0.0  \n",
       "2                   1         4           1     0.0  \n",
       "3                   0         2           1     2.0  \n",
       "4                   1         4           2     4.0  "
      ]
     },
     "execution_count": 10,
     "metadata": {},
     "output_type": "execute_result"
    }
   ],
   "source": [
    "df.head()"
   ]
  },
  {
   "cell_type": "markdown",
   "id": "1a7e1f2d",
   "metadata": {},
   "source": [
    "## Since We are using Coded Data :\n",
    "## 0  Vaccinated / Convinced\n",
    "## 1 Fear of side effects\n",
    "## 2 Non-availability of vaccines\n",
    "## 3 Being unaware of the need for vaccination\n",
    "## 4 Having no time\n",
    "## 5 Distance from vaccination centers"
   ]
  },
  {
   "cell_type": "code",
   "execution_count": 11,
   "id": "5956e7a7",
   "metadata": {},
   "outputs": [
    {
     "data": {
      "text/html": [
       "<div>\n",
       "<style scoped>\n",
       "    .dataframe tbody tr th:only-of-type {\n",
       "        vertical-align: middle;\n",
       "    }\n",
       "\n",
       "    .dataframe tbody tr th {\n",
       "        vertical-align: top;\n",
       "    }\n",
       "\n",
       "    .dataframe thead th {\n",
       "        text-align: right;\n",
       "    }\n",
       "</style>\n",
       "<table border=\"1\" class=\"dataframe\">\n",
       "  <thead>\n",
       "    <tr style=\"text-align: right;\">\n",
       "      <th></th>\n",
       "      <th>Gender</th>\n",
       "      <th>Detected State</th>\n",
       "      <th>PovertyRate</th>\n",
       "      <th>Current Status</th>\n",
       "      <th>JobLoss</th>\n",
       "      <th>FinancialSituation</th>\n",
       "      <th>Diseases</th>\n",
       "      <th>Profession</th>\n",
       "      <th>Reason</th>\n",
       "    </tr>\n",
       "  </thead>\n",
       "  <tbody>\n",
       "    <tr>\n",
       "      <th>count</th>\n",
       "      <td>247236.000000</td>\n",
       "      <td>247236.000000</td>\n",
       "      <td>247236.000000</td>\n",
       "      <td>247236.000000</td>\n",
       "      <td>247236.000000</td>\n",
       "      <td>247236.000000</td>\n",
       "      <td>247236.000000</td>\n",
       "      <td>247236.000000</td>\n",
       "      <td>247236.000000</td>\n",
       "    </tr>\n",
       "    <tr>\n",
       "      <th>mean</th>\n",
       "      <td>0.844659</td>\n",
       "      <td>18.156183</td>\n",
       "      <td>20.196047</td>\n",
       "      <td>0.378565</td>\n",
       "      <td>0.809858</td>\n",
       "      <td>0.609608</td>\n",
       "      <td>2.669967</td>\n",
       "      <td>1.735342</td>\n",
       "      <td>0.877720</td>\n",
       "    </tr>\n",
       "    <tr>\n",
       "      <th>std</th>\n",
       "      <td>0.362432</td>\n",
       "      <td>8.647260</td>\n",
       "      <td>7.473078</td>\n",
       "      <td>0.581446</td>\n",
       "      <td>0.867908</td>\n",
       "      <td>0.709822</td>\n",
       "      <td>1.307894</td>\n",
       "      <td>1.522308</td>\n",
       "      <td>1.310928</td>\n",
       "    </tr>\n",
       "    <tr>\n",
       "      <th>min</th>\n",
       "      <td>0.000000</td>\n",
       "      <td>0.000000</td>\n",
       "      <td>1.000000</td>\n",
       "      <td>0.000000</td>\n",
       "      <td>0.000000</td>\n",
       "      <td>0.000000</td>\n",
       "      <td>0.000000</td>\n",
       "      <td>0.000000</td>\n",
       "      <td>0.000000</td>\n",
       "    </tr>\n",
       "    <tr>\n",
       "      <th>25%</th>\n",
       "      <td>1.000000</td>\n",
       "      <td>15.000000</td>\n",
       "      <td>15.710000</td>\n",
       "      <td>0.000000</td>\n",
       "      <td>0.000000</td>\n",
       "      <td>0.000000</td>\n",
       "      <td>2.000000</td>\n",
       "      <td>0.000000</td>\n",
       "      <td>0.000000</td>\n",
       "    </tr>\n",
       "    <tr>\n",
       "      <th>50%</th>\n",
       "      <td>1.000000</td>\n",
       "      <td>15.000000</td>\n",
       "      <td>20.910000</td>\n",
       "      <td>0.000000</td>\n",
       "      <td>1.000000</td>\n",
       "      <td>0.000000</td>\n",
       "      <td>3.000000</td>\n",
       "      <td>2.000000</td>\n",
       "      <td>0.000000</td>\n",
       "    </tr>\n",
       "    <tr>\n",
       "      <th>75%</th>\n",
       "      <td>1.000000</td>\n",
       "      <td>27.000000</td>\n",
       "      <td>20.910000</td>\n",
       "      <td>1.000000</td>\n",
       "      <td>1.000000</td>\n",
       "      <td>1.000000</td>\n",
       "      <td>4.000000</td>\n",
       "      <td>3.000000</td>\n",
       "      <td>2.000000</td>\n",
       "    </tr>\n",
       "    <tr>\n",
       "      <th>max</th>\n",
       "      <td>2.000000</td>\n",
       "      <td>35.000000</td>\n",
       "      <td>49.010000</td>\n",
       "      <td>3.000000</td>\n",
       "      <td>3.000000</td>\n",
       "      <td>2.000000</td>\n",
       "      <td>4.000000</td>\n",
       "      <td>5.000000</td>\n",
       "      <td>5.000000</td>\n",
       "    </tr>\n",
       "  </tbody>\n",
       "</table>\n",
       "</div>"
      ],
      "text/plain": [
       "              Gender  Detected State    PovertyRate  Current Status  \\\n",
       "count  247236.000000   247236.000000  247236.000000   247236.000000   \n",
       "mean        0.844659       18.156183      20.196047        0.378565   \n",
       "std         0.362432        8.647260       7.473078        0.581446   \n",
       "min         0.000000        0.000000       1.000000        0.000000   \n",
       "25%         1.000000       15.000000      15.710000        0.000000   \n",
       "50%         1.000000       15.000000      20.910000        0.000000   \n",
       "75%         1.000000       27.000000      20.910000        1.000000   \n",
       "max         2.000000       35.000000      49.010000        3.000000   \n",
       "\n",
       "             JobLoss  FinancialSituation       Diseases     Profession  \\\n",
       "count  247236.000000       247236.000000  247236.000000  247236.000000   \n",
       "mean        0.809858            0.609608       2.669967       1.735342   \n",
       "std         0.867908            0.709822       1.307894       1.522308   \n",
       "min         0.000000            0.000000       0.000000       0.000000   \n",
       "25%         0.000000            0.000000       2.000000       0.000000   \n",
       "50%         1.000000            0.000000       3.000000       2.000000   \n",
       "75%         1.000000            1.000000       4.000000       3.000000   \n",
       "max         3.000000            2.000000       4.000000       5.000000   \n",
       "\n",
       "              Reason  \n",
       "count  247236.000000  \n",
       "mean        0.877720  \n",
       "std         1.310928  \n",
       "min         0.000000  \n",
       "25%         0.000000  \n",
       "50%         0.000000  \n",
       "75%         2.000000  \n",
       "max         5.000000  "
      ]
     },
     "execution_count": 11,
     "metadata": {},
     "output_type": "execute_result"
    }
   ],
   "source": [
    "df.describe()"
   ]
  },
  {
   "cell_type": "markdown",
   "id": "a9b41fbd",
   "metadata": {},
   "source": [
    "The descriptive analysis of our data "
   ]
  },
  {
   "cell_type": "code",
   "execution_count": 12,
   "id": "963b779b",
   "metadata": {},
   "outputs": [
    {
     "data": {
      "text/plain": [
       "Gender                  int64\n",
       "Detected State          int64\n",
       "PovertyRate           float64\n",
       "Current Status          int64\n",
       "JobLoss                 int64\n",
       "FinancialSituation      int64\n",
       "Diseases                int64\n",
       "Profession              int64\n",
       "Reason                float64\n",
       "dtype: object"
      ]
     },
     "execution_count": 12,
     "metadata": {},
     "output_type": "execute_result"
    }
   ],
   "source": [
    "df.dtypes"
   ]
  },
  {
   "cell_type": "markdown",
   "id": "754badf0",
   "metadata": {},
   "source": [
    "Showing the Data type column by column"
   ]
  },
  {
   "cell_type": "code",
   "execution_count": 13,
   "id": "e9f0e76a",
   "metadata": {},
   "outputs": [
    {
     "data": {
      "text/plain": [
       "Gender                0\n",
       "Detected State        0\n",
       "PovertyRate           0\n",
       "Current Status        0\n",
       "JobLoss               0\n",
       "FinancialSituation    0\n",
       "Diseases              0\n",
       "Profession            0\n",
       "Reason                0\n",
       "dtype: int64"
      ]
     },
     "execution_count": 13,
     "metadata": {},
     "output_type": "execute_result"
    }
   ],
   "source": [
    "df.isnull().sum()"
   ]
  },
  {
   "cell_type": "markdown",
   "id": "1103b85f",
   "metadata": {},
   "source": [
    "Veryfing if there is any aberant values in our dataset"
   ]
  },
  {
   "cell_type": "code",
   "execution_count": 14,
   "id": "b9c28fb5",
   "metadata": {},
   "outputs": [
    {
     "name": "stdout",
     "output_type": "stream",
     "text": [
      "              Gender  Detected State    PovertyRate  Current Status  \\\n",
      "count  247236.000000   247236.000000  247236.000000   247236.000000   \n",
      "mean        0.844659       18.156183      20.196047        0.378565   \n",
      "std         0.362432        8.647260       7.473078        0.581446   \n",
      "min         0.000000        0.000000       1.000000        0.000000   \n",
      "25%         1.000000       15.000000      15.710000        0.000000   \n",
      "50%         1.000000       15.000000      20.910000        0.000000   \n",
      "75%         1.000000       27.000000      20.910000        1.000000   \n",
      "max         2.000000       35.000000      49.010000        3.000000   \n",
      "\n",
      "             JobLoss  FinancialSituation       Diseases     Profession  \\\n",
      "count  247236.000000       247236.000000  247236.000000  247236.000000   \n",
      "mean        0.809858            0.609608       2.669967       1.735342   \n",
      "std         0.867908            0.709822       1.307894       1.522308   \n",
      "min         0.000000            0.000000       0.000000       0.000000   \n",
      "25%         0.000000            0.000000       2.000000       0.000000   \n",
      "50%         1.000000            0.000000       3.000000       2.000000   \n",
      "75%         1.000000            1.000000       4.000000       3.000000   \n",
      "max         3.000000            2.000000       4.000000       5.000000   \n",
      "\n",
      "              Reason  \n",
      "count  247236.000000  \n",
      "mean        0.877720  \n",
      "std         1.310928  \n",
      "min         0.000000  \n",
      "25%         0.000000  \n",
      "50%         0.000000  \n",
      "75%         2.000000  \n",
      "max         5.000000  \n"
     ]
    }
   ],
   "source": [
    "print(df.describe())"
   ]
  },
  {
   "cell_type": "markdown",
   "id": "2e0100d9",
   "metadata": {},
   "source": [
    "## Dataset Analysis"
   ]
  },
  {
   "cell_type": "markdown",
   "id": "534c9e24",
   "metadata": {},
   "source": [
    "### Seeing the Density Of Our Dataset Main Variables "
   ]
  },
  {
   "cell_type": "code",
   "execution_count": 8,
   "id": "37fbb4e3",
   "metadata": {},
   "outputs": [],
   "source": [
    "plt.style.use('fivethirtyeight')"
   ]
  },
  {
   "cell_type": "code",
   "execution_count": 15,
   "id": "04826256",
   "metadata": {},
   "outputs": [
    {
     "data": {
      "image/png": "[encoded data removed]",
      "text/plain": [
       "<Figure size 1080x432 with 3 Axes>"
      ]
     },
     "metadata": {},
     "output_type": "display_data"
    }
   ],
   "source": [
    "plt.figure(1 , figsize = (15 , 6))\n",
    "n = 0 \n",
    "for x in ['Current Status' , 'Gender' , 'Age Bracket' ]:\n",
    "    n += 1\n",
    "    plt.subplot(1 , 3 , n)\n",
    "    plt.subplots_adjust(hspace =0.5 , wspace = 0.5)\n",
    "    sns.distplot(df[x] , bins = 20)\n",
    "    plt.title('Distplot of {}'.format(x))\n",
    "plt.show()"
   ]
  },
  {
   "cell_type": "markdown",
   "id": "2d867478",
   "metadata": {},
   "source": [
    " #### By the density graphic we can already detect the number of clusters of each variable :\n",
    "   #### Current Status : 4 \n",
    "   #### Gender : 5\n",
    "   #### Age Bracket : 6\n",
    "    \n",
    "        "
   ]
  },
  {
   "cell_type": "code",
   "execution_count": 16,
   "id": "5a4ce8ea",
   "metadata": {},
   "outputs": [
    {
     "data": {
      "image/png": "[encoded data removed]",
      "text/plain": [
       "<Figure size 1080x432 with 3 Axes>"
      ]
     },
     "metadata": {},
     "output_type": "display_data"
    },
    {
     "data": {
      "text/plain": [
       "(\"'Profession'\", ',', \"'Reason'\")"
      ]
     },
     "execution_count": 16,
     "metadata": {},
     "output_type": "execute_result"
    }
   ],
   "source": [
    "plt.figure(1 , figsize = (15 , 6))\n",
    "n = 0 \n",
    "for x in [ 'Detected State', 'Profession' , 'Reason' ]:\n",
    "    n += 1\n",
    "    plt.subplot(1 , 3 , n)\n",
    "    plt.subplots_adjust(hspace =0.5 , wspace = 0.5)\n",
    "    sns.distplot(df[x] , bins = 20)\n",
    "    plt.title('Distplot of {}'.format(x))\n",
    "plt.show()\n",
    ", 'Profession' , 'Reason'"
   ]
  },
  {
   "cell_type": "markdown",
   "id": "05c76c50",
   "metadata": {},
   "source": [
    " #### By the density graphic we can already detect the number of clusters of each variable :\n",
    "   #### Detected State : Not Clear\n",
    "   #### Profession : 6\n",
    "   #### Reason : 6"
   ]
  },
  {
   "cell_type": "markdown",
   "id": "20139227",
   "metadata": {},
   "source": [
    "## Analysing the Barriers Clusters using the Bar Chart  "
   ]
  },
  {
   "cell_type": "code",
   "execution_count": 11,
   "id": "0e279c5e",
   "metadata": {},
   "outputs": [
    {
     "data": {
      "image/png": "[encoded data removed]",
      "text/plain": [
       "<Figure size 1080x360 with 1 Axes>"
      ]
     },
     "metadata": {},
     "output_type": "display_data"
    }
   ],
   "source": [
    "plt.figure(1 , figsize = (15 , 5))\n",
    "sns.countplot(y = 'Reason' , data = df)\n",
    "plt.show()\n",
    "# Vaccinated / Convinced\n",
    "# Fear of side effects\n",
    "# Non-availability of vaccines\n",
    "# Being unaware of the need for vaccination\n",
    "# Having no time\n",
    "# Distance from vaccination centers"
   ]
  },
  {
   "cell_type": "markdown",
   "id": "259ddc73",
   "metadata": {},
   "source": [
    "## Studying the Correlation between the Barrier and other dataset Variables"
   ]
  },
  {
   "cell_type": "code",
   "execution_count": 13,
   "id": "dfac50b0",
   "metadata": {},
   "outputs": [
    {
     "data": {
      "image/png": "[encoded data removed]",
      "text/plain": [
       "<Figure size 1080x504 with 5 Axes>"
      ]
     },
     "metadata": {},
     "output_type": "display_data"
    }
   ],
   "source": [
    "plt.figure(1 , figsize = (15 , 7))\n",
    "n = 0 \n",
    "for x in [ 'Reason']:\n",
    "    for y in ['Age Bracket' , 'Gender' , 'Profession','Current Status', 'Detected State']:\n",
    "        n += 1\n",
    "        plt.subplot(3 , 3 , n)\n",
    "        plt.subplots_adjust(hspace = 0.5 , wspace = 0.5)\n",
    "        sns.regplot(x = x , y = y , data = df)\n",
    "        plt.ylabel(y.split()[0]+' '+y.split()[1] if len(y.split()) > 1 else y )\n",
    "plt.show()"
   ]
  },
  {
   "cell_type": "markdown",
   "id": "3b1bc1ec",
   "metadata": {},
   "source": [
    "## Visualizing the Barriers Clusters and their Occurence  Grahically "
   ]
  },
  {
   "cell_type": "code",
   "execution_count": 27,
   "id": "c0399e2a",
   "metadata": {},
   "outputs": [
    {
     "data": {
      "image/png": "[encoded data removed]",
      "text/plain": [
       "<Figure size 1080x576 with 1 Axes>"
      ]
     },
     "metadata": {},
     "output_type": "display_data"
    }
   ],
   "source": [
    "plt.figure(1 , figsize = (15 , 8))\n",
    "for Reason in [1 , 2 ,3 ,4,5]:\n",
    "    plt.scatter(x = 'Reason' , y = 'Detected State' , data = df[df['Reason'] == Reason] ,\n",
    "                s = 200 , alpha = 1 , label = Reason)\n",
    "plt.xlabel('Reason'), plt.ylabel('Number') \n",
    "plt.title('Reasons Distrubution')\n",
    "plt.legend()\n",
    "plt.show()\n",
    "# 0    Vaccinated / Convinced\n",
    "# 1    Fear of side effects\n",
    "# 2    Non-availability of vaccines\n",
    "# 3    Being unaware of the need for vaccination\n",
    "# 4    Having no time\n",
    "# 5    Distance from vaccination centers"
   ]
  },
  {
   "cell_type": "code",
   "execution_count": null,
   "id": "ad1fe4fc",
   "metadata": {},
   "outputs": [],
   "source": [
    "from matplotlib import pyplot as plt\n",
    "import seaborn as sns\n",
    "plt.figure(1 , figsize = (15 , 7))\n",
    "n = 0 \n",
    "for cols in ['Profession', 'Gender']:\n",
    "    n += 1 \n",
    "    plt.subplot(1 , 3 , n)\n",
    "    plt.subplots_adjust(hspace = 0.5 , wspace = 0.5)\n",
    "    sns.violinplot(x = cols , y = 'Reason' , data = df , palette = 'vlag')\n",
    "    sns.swarmplot(x = cols , y = 'Reason' , data = df)\n",
    "    plt.ylabel('name' if n == 1 else '')\n",
    "    plt.title('Boxplots & Swarmplots' if n == 2 else '')\n",
    "plt.show()"
   ]
  },
  {
   "cell_type": "markdown",
   "id": "1dd3b74c",
   "metadata": {},
   "source": [
    "## the confusion matrix"
   ]
  },
  {
   "cell_type": "markdown",
   "id": "13693b1c",
   "metadata": {},
   "source": [
    "la matrice de confusion est une technique d’évaluation qui confronte la réalité au résultat obtenu (train & test) "
   ]
  },
  {
   "cell_type": "code",
   "execution_count": 15,
   "id": "14361b13",
   "metadata": {},
   "outputs": [
    {
     "data": {
      "text/html": [
       "<div>\n",
       "<style scoped>\n",
       "    .dataframe tbody tr th:only-of-type {\n",
       "        vertical-align: middle;\n",
       "    }\n",
       "\n",
       "    .dataframe tbody tr th {\n",
       "        vertical-align: top;\n",
       "    }\n",
       "\n",
       "    .dataframe thead th {\n",
       "        text-align: right;\n",
       "    }\n",
       "</style>\n",
       "<table border=\"1\" class=\"dataframe\">\n",
       "  <thead>\n",
       "    <tr style=\"text-align: right;\">\n",
       "      <th></th>\n",
       "      <th>Gender</th>\n",
       "      <th>Detected State</th>\n",
       "      <th>PovertyRate</th>\n",
       "      <th>Current Status</th>\n",
       "      <th>JobLoss</th>\n",
       "      <th>FinancialSituation</th>\n",
       "      <th>Diseases</th>\n",
       "      <th>Profession</th>\n",
       "      <th>Reason</th>\n",
       "    </tr>\n",
       "  </thead>\n",
       "  <tbody>\n",
       "    <tr>\n",
       "      <th>0</th>\n",
       "      <td>0</td>\n",
       "      <td>16</td>\n",
       "      <td>7.05</td>\n",
       "      <td>1</td>\n",
       "      <td>2</td>\n",
       "      <td>1</td>\n",
       "      <td>4</td>\n",
       "      <td>1</td>\n",
       "      <td>0.0</td>\n",
       "    </tr>\n",
       "    <tr>\n",
       "      <th>1</th>\n",
       "      <td>1</td>\n",
       "      <td>16</td>\n",
       "      <td>7.05</td>\n",
       "      <td>1</td>\n",
       "      <td>0</td>\n",
       "      <td>0</td>\n",
       "      <td>4</td>\n",
       "      <td>2</td>\n",
       "      <td>0.0</td>\n",
       "    </tr>\n",
       "    <tr>\n",
       "      <th>2</th>\n",
       "      <td>1</td>\n",
       "      <td>16</td>\n",
       "      <td>7.05</td>\n",
       "      <td>1</td>\n",
       "      <td>2</td>\n",
       "      <td>1</td>\n",
       "      <td>4</td>\n",
       "      <td>1</td>\n",
       "      <td>0.0</td>\n",
       "    </tr>\n",
       "    <tr>\n",
       "      <th>3</th>\n",
       "      <td>1</td>\n",
       "      <td>8</td>\n",
       "      <td>9.91</td>\n",
       "      <td>1</td>\n",
       "      <td>2</td>\n",
       "      <td>0</td>\n",
       "      <td>2</td>\n",
       "      <td>1</td>\n",
       "      <td>2.0</td>\n",
       "    </tr>\n",
       "    <tr>\n",
       "      <th>4</th>\n",
       "      <td>1</td>\n",
       "      <td>31</td>\n",
       "      <td>13.74</td>\n",
       "      <td>1</td>\n",
       "      <td>0</td>\n",
       "      <td>1</td>\n",
       "      <td>4</td>\n",
       "      <td>2</td>\n",
       "      <td>4.0</td>\n",
       "    </tr>\n",
       "  </tbody>\n",
       "</table>\n",
       "</div>"
      ],
      "text/plain": [
       "   Gender  Detected State  PovertyRate  Current Status  JobLoss  \\\n",
       "0       0              16         7.05               1        2   \n",
       "1       1              16         7.05               1        0   \n",
       "2       1              16         7.05               1        2   \n",
       "3       1               8         9.91               1        2   \n",
       "4       1              31        13.74               1        0   \n",
       "\n",
       "   FinancialSituation  Diseases  Profession  Reason  \n",
       "0                   1         4           1     0.0  \n",
       "1                   0         4           2     0.0  \n",
       "2                   1         4           1     0.0  \n",
       "3                   0         2           1     2.0  \n",
       "4                   1         4           2     4.0  "
      ]
     },
     "execution_count": 15,
     "metadata": {},
     "output_type": "execute_result"
    }
   ],
   "source": [
    "df.head()"
   ]
  },
  {
   "cell_type": "markdown",
   "id": "5a957bea",
   "metadata": {},
   "source": [
    "In order to build the confusion matrix We specify the range of variables we need .\n",
    "."
   ]
  },
  {
   "cell_type": "code",
   "execution_count": 16,
   "id": "d50a5c24",
   "metadata": {},
   "outputs": [],
   "source": [
    "# valeurs de toutes les colonnes\n",
    "#colonnes => 0:8 (0 à 8 [non inclus])\n",
    "#lignes = : (toutes les colonnes)\n",
    "#reason\n",
    "V_SansLabels=df.iloc[:,0:8];\n",
    "#Labels\n",
    "V_Labels=df.iloc[:,8];"
   ]
  },
  {
   "cell_type": "markdown",
   "id": "eaaad801",
   "metadata": {},
   "source": [
    "Now, we set up the K MEANS algorithm, which takes as input a previously fixed number of clusters (I chose 5 clusters in my case) by assigning individuals to the centers of the closest clusters (according to a metric - / minimum distance)."
   ]
  },
  {
   "cell_type": "markdown",
   "id": "d9a90bce",
   "metadata": {},
   "source": [
    "# the contingency matrix"
   ]
  },
  {
   "cell_type": "code",
   "execution_count": 17,
   "id": "e72d31fd",
   "metadata": {},
   "outputs": [
    {
     "name": "stdout",
     "output_type": "stream",
     "text": [
      "         0\n",
      "0   123617\n",
      "0   152434\n",
      "0   152435\n",
      "0   152436\n",
      "0   152437\n",
      "..     ...\n",
      "4    28696\n",
      "4    28697\n",
      "4    28698\n",
      "4    28700\n",
      "4        0\n",
      "\n",
      "[247236 rows x 1 columns]\n",
      "[[14.06553023 15.34036536 30.03530849 27.80739581  7.12281817]\n",
      " [14.00199488 15.28409574 30.011441   27.78118378  7.00955548]\n",
      " [14.04504533 15.31764072 30.02083334 27.78976397  7.05400133]\n",
      " ...\n",
      " [ 1.33659531 17.15495836 17.21712882 18.44768098 12.7741531 ]\n",
      " [ 1.33659531 17.15495836 17.21712882 18.44768098 12.7741531 ]\n",
      " [ 2.12466257 17.19726383 17.26699719 18.62861851 12.82597609]]\n"
     ]
    },
    {
     "data": {
      "text/html": [
       "<div>\n",
       "<style scoped>\n",
       "    .dataframe tbody tr th:only-of-type {\n",
       "        vertical-align: middle;\n",
       "    }\n",
       "\n",
       "    .dataframe tbody tr th {\n",
       "        vertical-align: top;\n",
       "    }\n",
       "\n",
       "    .dataframe thead th {\n",
       "        text-align: right;\n",
       "    }\n",
       "</style>\n",
       "<table border=\"1\" class=\"dataframe\">\n",
       "  <thead>\n",
       "    <tr style=\"text-align: right;\">\n",
       "      <th>col_0</th>\n",
       "      <th>0</th>\n",
       "      <th>1</th>\n",
       "      <th>2</th>\n",
       "      <th>3</th>\n",
       "      <th>4</th>\n",
       "    </tr>\n",
       "    <tr>\n",
       "      <th>Reason</th>\n",
       "      <th></th>\n",
       "      <th></th>\n",
       "      <th></th>\n",
       "      <th></th>\n",
       "      <th></th>\n",
       "    </tr>\n",
       "  </thead>\n",
       "  <tbody>\n",
       "    <tr>\n",
       "      <th>0.0</th>\n",
       "      <td>85769</td>\n",
       "      <td>29040</td>\n",
       "      <td>12520</td>\n",
       "      <td>10898</td>\n",
       "      <td>12076</td>\n",
       "    </tr>\n",
       "    <tr>\n",
       "      <th>1.0</th>\n",
       "      <td>19409</td>\n",
       "      <td>8535</td>\n",
       "      <td>2012</td>\n",
       "      <td>1636</td>\n",
       "      <td>3075</td>\n",
       "    </tr>\n",
       "    <tr>\n",
       "      <th>2.0</th>\n",
       "      <td>9889</td>\n",
       "      <td>4472</td>\n",
       "      <td>4527</td>\n",
       "      <td>3550</td>\n",
       "      <td>1685</td>\n",
       "    </tr>\n",
       "    <tr>\n",
       "      <th>3.0</th>\n",
       "      <td>10229</td>\n",
       "      <td>4557</td>\n",
       "      <td>1957</td>\n",
       "      <td>1574</td>\n",
       "      <td>1799</td>\n",
       "    </tr>\n",
       "    <tr>\n",
       "      <th>4.0</th>\n",
       "      <td>9858</td>\n",
       "      <td>4306</td>\n",
       "      <td>289</td>\n",
       "      <td>339</td>\n",
       "      <td>1600</td>\n",
       "    </tr>\n",
       "    <tr>\n",
       "      <th>5.0</th>\n",
       "      <td>588</td>\n",
       "      <td>457</td>\n",
       "      <td>91</td>\n",
       "      <td>157</td>\n",
       "      <td>342</td>\n",
       "    </tr>\n",
       "  </tbody>\n",
       "</table>\n",
       "</div>"
      ],
      "text/plain": [
       "col_0       0      1      2      3      4\n",
       "Reason                                   \n",
       "0.0     85769  29040  12520  10898  12076\n",
       "1.0     19409   8535   2012   1636   3075\n",
       "2.0      9889   4472   4527   3550   1685\n",
       "3.0     10229   4557   1957   1574   1799\n",
       "4.0      9858   4306    289    339   1600\n",
       "5.0       588    457     91    157    342"
      ]
     },
     "execution_count": 17,
     "metadata": {},
     "output_type": "execute_result"
    }
   ],
   "source": [
    "#k-means \n",
    "import numpy as np\n",
    "from sklearn import cluster \n",
    "kmeans = cluster.KMeans(n_clusters=5);\n",
    "kmeans.fit(V_SansLabels);\n",
    "#index triés des groupes \n",
    "idk = np.argsort(kmeans.labels_);\n",
    "#affichage des observations et leurs groupes \n",
    "print(pd.DataFrame(V_SansLabels.index[idk],kmeans.labels_[idk]));\n",
    "kmeans.labels_\n",
    "#distances aux centres de classes des observations \n",
    "print(kmeans.transform(V_SansLabels));\n",
    "#correspondance avec les groupes réels \n",
    "pd.crosstab(V_Labels,kmeans.labels_)"
   ]
  },
  {
   "cell_type": "code",
   "execution_count": null,
   "id": "12cecbee",
   "metadata": {},
   "outputs": [],
   "source": []
  }
 ],
 "metadata": {
  "kernelspec": {
   "display_name": "Python 3",
   "language": "python",
   "name": "python3"
  },
  "language_info": {
   "codemirror_mode": {
    "name": "ipython",
    "version": 3
   },
   "file_extension": ".py",
   "mimetype": "text/x-python",
   "name": "python",
   "nbconvert_exporter": "python",
   "pygments_lexer": "ipython3",
   "version": "3.8.8"
  }
 },
 "nbformat": 4,
 "nbformat_minor": 5
}
